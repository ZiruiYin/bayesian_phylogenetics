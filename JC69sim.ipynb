{
 "cells": [
  {
   "cell_type": "code",
   "execution_count": 20,
   "metadata": {},
   "outputs": [],
   "source": [
    "import numpy as np\n",
    "from itertools import product\n",
    "\n",
    "def transition_probability(nucleotide_from, nucleotide_to, theta):\n",
    "    if nucleotide_from == nucleotide_to:\n",
    "        prob = 1/4 + 3/4 * np.exp(-4/3 * theta)\n",
    "    else:\n",
    "        prob = 1/4 * (1 - np.exp(-4/3 * theta))\n",
    "    return prob\n",
    "\n",
    "def sequence_probability(sequence_from, sequence_to, theta):\n",
    "    prob_product = 1\n",
    "    for nucleotide_from, nucleotide_to in zip(sequence_from, sequence_to):\n",
    "        prob_product *= transition_probability(nucleotide_from, nucleotide_to, theta)\n",
    "    return prob_product\n",
    "\n",
    "#Unrooted tree with 3 tips and sequence length i\n",
    "def calculate_p_D_given_tau_theta(theta, data, i):\n",
    "    nucleotides = ['T', 'C', 'A', 'G']\n",
    "    total_prob = 0\n",
    "    for hidden_state in product(nucleotides, repeat=i):\n",
    "        hidden_state_list = list(hidden_state)\n",
    "        p1 = sequence_probability(hidden_state_list, data[0], theta[0])\n",
    "        p2 = sequence_probability(hidden_state_list, data[1], theta[1])\n",
    "        p3 = sequence_probability(hidden_state_list, data[2], theta[2])\n",
    "        total_prob += p1 * p2 * p3\n",
    "    return total_prob"
   ]
  },
  {
   "cell_type": "code",
   "execution_count": 21,
   "metadata": {},
   "outputs": [
    {
     "data": {
      "text/plain": [
       "0.0003305676547972337"
      ]
     },
     "execution_count": 21,
     "metadata": {},
     "output_type": "execute_result"
    }
   ],
   "source": [
    "data = [['T', 'C', 'A'],\n",
    "        ['T', 'C', 'A'],\n",
    "        ['T', 'C', 'C']]\n",
    "theta = [0.001, 0.001, 0.001]\n",
    "\n",
    "calculate_p_D_given_tau_theta(theta, data, 3)"
   ]
  },
  {
   "cell_type": "code",
   "execution_count": 19,
   "metadata": {},
   "outputs": [
    {
     "data": {
      "text/plain": [
       "0.0003305676547972337"
      ]
     },
     "execution_count": 19,
     "metadata": {},
     "output_type": "execute_result"
    }
   ],
   "source": [
    "calculate_p_D_given_tau_theta(theta, data, 3)"
   ]
  },
  {
   "cell_type": "code",
   "execution_count": 26,
   "metadata": {},
   "outputs": [],
   "source": [
    "def calculate_p_D_given_tau_theta_4(theta, data):\n",
    "    nucleotides = ['T', 'C', 'A', 'G']\n",
    "    total_prob = 0\n",
    "\n",
    "    for h11 in nucleotides:\n",
    "        for h12 in nucleotides:\n",
    "            for h13 in nucleotides:\n",
    "                h1 = [h11, h12, h13]\n",
    "                for h21 in nucleotides:\n",
    "                    for h22 in nucleotides:\n",
    "                        for h23 in nucleotides:\n",
    "                            h2 = [h21, h22, h23]\n",
    "                            p_hidden = sequence_probability(h1, h2, theta[0])\n",
    "                            p1 = sequence_probability(h1, data[0], theta[1])\n",
    "                            p2 = sequence_probability(h1, data[1], theta[2])\n",
    "                            p3 = sequence_probability(h2, data[2], theta[3])\n",
    "                            p4 = sequence_probability(h2, data[3], theta[4])\n",
    "                \n",
    "                total_prob += p1 * p2 * p3 * p4 * p_hidden\n",
    "    \n",
    "    return total_prob"
   ]
  },
  {
   "cell_type": "code",
   "execution_count": 28,
   "metadata": {},
   "outputs": [
    {
     "data": {
      "text/plain": [
       "6.013899026898284e-28"
      ]
     },
     "execution_count": 28,
     "metadata": {},
     "output_type": "execute_result"
    }
   ],
   "source": [
    "data = [['T', 'C', 'A'],\n",
    "        ['T', 'C', 'A'],\n",
    "        ['T', 'C', 'C'],\n",
    "        ['T', 'C', 'G']]\n",
    "\n",
    "theta = [0.001, 0.001, 0.001, 0.001, 0.002]\n",
    "calculate_p_D_given_tau_theta_4(theta, data)"
   ]
  },
  {
   "cell_type": "code",
   "execution_count": null,
   "metadata": {},
   "outputs": [],
   "source": []
  }
 ],
 "metadata": {
  "kernelspec": {
   "display_name": "base",
   "language": "python",
   "name": "python3"
  },
  "language_info": {
   "codemirror_mode": {
    "name": "ipython",
    "version": 3
   },
   "file_extension": ".py",
   "mimetype": "text/x-python",
   "name": "python",
   "nbconvert_exporter": "python",
   "pygments_lexer": "ipython3",
   "version": "3.11.3"
  }
 },
 "nbformat": 4,
 "nbformat_minor": 2
}
